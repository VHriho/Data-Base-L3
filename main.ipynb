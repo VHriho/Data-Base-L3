{
 "cells": [
  {
   "cell_type": "markdown",
   "id": "3e99b8ce",
   "metadata": {},
   "source": [
    "# Лабораторна робота №3 **Міграція Бази Даних**\n",
    "Григоренко Валерій КМ-23"
   ]
  },
  {
   "cell_type": "markdown",
   "id": "6f7f3e52",
   "metadata": {},
   "source": [
    "### **Задача:** написати програму в стилі Layered Architecture, в якій би була описана структура БД за допомогою ORM моделі. Запрограмувати зчитування з файлу та рефакторинг-міграції погодної бази даних. Міграції мають дозволяти, як створити базу з нуля, так і мігрувати існуючу базу. При міграції бази дані не мають бути втрачені."
   ]
  },
  {
   "cell_type": "code",
   "execution_count": null,
   "id": "38f138b4",
   "metadata": {},
   "outputs": [],
   "source": [
    "# !flyway -configFiles=\"E:\\Валера\\Uni\\Databases\\Лабораторні\\Lab_3\\flyway\\mysql_migrations\\flyway.conf\" migrate\n",
    "# !flyway -configFiles=\"E:\\Валера\\Uni\\Databases\\Лабораторні\\Lab_3\\flyway\\pg_migrations\\flyway.conf\" migrate"
   ]
  },
  {
   "cell_type": "code",
   "execution_count": null,
   "id": "73fc8355",
   "metadata": {},
   "outputs": [],
   "source": [
    "from business_logic.services import WeatherService\n",
    "from presentation.interface import run_interface\n",
    "from config import postgres_config, mysql_config, csv_path\n",
    "\n",
    "weather_service = WeatherService()\n",
    "\n",
    "print(\"\\nLoads data into the PostgreSql ...\")\n",
    "try:\n",
    "    weather_service.load_initial_data(csv_path, postgres_config)\n",
    "    print(\"The data load PostgreSql was completed successfully.\")\n",
    "except Exception as e:\n",
    "    print(f\"Error loading initial data PostgreSql: {e}\")\n",
    "\n",
    "print(\"\\nLoads data into the MySql ...\")\n",
    "try:\n",
    "    weather_service.load_initial_data(csv_path, mysql_config)\n",
    "    print(\"The data load MySql was completed successfully.\")\n",
    "except Exception as e:\n",
    "    print(f\"Error loading initial data MySql: {e}\")\n",
    "\n",
    "run_interface()"
   ]
  }
 ],
 "metadata": {
  "kernelspec": {
   "display_name": "Python 3",
   "language": "python",
   "name": "python3"
  },
  "language_info": {
   "codemirror_mode": {
    "name": "ipython",
    "version": 3
   },
   "file_extension": ".py",
   "mimetype": "text/x-python",
   "name": "python",
   "nbconvert_exporter": "python",
   "pygments_lexer": "ipython3",
   "version": "3.9.13"
  }
 },
 "nbformat": 4,
 "nbformat_minor": 5
}
