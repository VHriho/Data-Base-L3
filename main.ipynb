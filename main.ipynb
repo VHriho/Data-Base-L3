{
 "cells": [
  {
   "cell_type": "markdown",
   "id": "3e99b8ce",
   "metadata": {},
   "source": [
    "# Лабораторна робота №3 **Міграція Бази Даних**\n",
    "Григоренко Валерій КМ-23"
   ]
  },
  {
   "cell_type": "markdown",
   "id": "6f7f3e52",
   "metadata": {},
   "source": [
    "### **Задача:** написати програму в стилі Layered Architecture, в якій би була описана структура БД за допомогою ORM моделі. Запрограмувати зчитування з файлу та рефакторинг-міграції погодної бази даних. Міграції мають дозволяти, як створити базу з нуля, так і мігрувати існуючу базу. При міграції бази дані не мають бути втрачені."
   ]
  },
  {
   "cell_type": "markdown",
   "id": "a0ca66d2",
   "metadata": {},
   "source": [
    "### Використовуємо міграційний інструмент **Flyway** для створення шаблонів баз даних"
   ]
  },
  {
   "cell_type": "code",
   "execution_count": null,
   "id": "38f138b4",
   "metadata": {},
   "outputs": [],
   "source": [
    "!flyway -configFiles=\"E:\\Валера\\Uni\\Databases\\Лабораторні\\Lab_3\\flyway\\mysql_migrations\\flyway.conf\" migrate\n",
    "!flyway -configFiles=\"E:\\Валера\\Uni\\Databases\\Лабораторні\\Lab_3\\flyway\\pg_migrations\\flyway.conf\" migrate"
   ]
  },
  {
   "cell_type": "markdown",
   "id": "09f950fe",
   "metadata": {},
   "source": [
    "### Зчитуємо дані з файлу .csv та додаємо до бази даних **PostgreSQL**"
   ]
  },
  {
   "cell_type": "code",
   "execution_count": null,
   "id": "73fc8355",
   "metadata": {},
   "outputs": [],
   "source": [
    "from business_logic.services import WeatherService\n",
    "from presentation.interface import run_interface\n",
    "from config import postgres_config, mysql_config, csv_path\n",
    "\n",
    "weather_service = WeatherService()\n",
    "\n",
    "print(\"\\nLoads data into the PostgreSql ...\")\n",
    "try:\n",
    "    weather_service.load_initial_data(csv_path, postgres_config)\n",
    "    print(\"The data load PostgreSql was completed successfully.\")\n",
    "except Exception as e:\n",
    "    print(f\"Error loading initial data PostgreSql: {e}\")\n",
    "\n",
    "run_interface(weather_service, postgres_config)\n"
   ]
  },
  {
   "cell_type": "markdown",
   "id": "a15ce474",
   "metadata": {},
   "source": [
    "### Зчитуємо дані з файлу .csv та додаємо до бази даних **MySQL**"
   ]
  },
  {
   "cell_type": "code",
   "execution_count": null,
   "id": "2ee79395",
   "metadata": {},
   "outputs": [],
   "source": [
    "print(\"\\nLoads data into the MySql ...\")\n",
    "try:\n",
    "    weather_service.load_initial_data(csv_path, mysql_config)\n",
    "    print(\"The data load MySql was completed successfully.\")\n",
    "except Exception as e:\n",
    "    print(f\"Error loading initial data MySql: {e}\")\n",
    "\n",
    "run_interface()"
   ]
  },
  {
   "cell_type": "markdown",
   "id": "a809e1d8",
   "metadata": {},
   "source": [
    "### Виконуємо міграцію з **PostgreSQL** до **MySQL**"
   ]
  },
  {
   "cell_type": "code",
   "execution_count": null,
   "id": "96293866",
   "metadata": {},
   "outputs": [],
   "source": [
    "print(\"\\nInit data migration from PostgreSQL to MySql ...\")\n",
    "transferred_count = weather_service.migrate_data(\n",
    "    source_db_config = postgres_config,\n",
    "    target_db_config = mysql_config\n",
    ")\n",
    "\n",
    "print(f\"Was migrated: {transferred_count} records.\")"
   ]
  }
 ],
 "metadata": {
  "kernelspec": {
   "display_name": "Python 3",
   "language": "python",
   "name": "python3"
  },
  "language_info": {
   "codemirror_mode": {
    "name": "ipython",
    "version": 3
   },
   "file_extension": ".py",
   "mimetype": "text/x-python",
   "name": "python",
   "nbconvert_exporter": "python",
   "pygments_lexer": "ipython3",
   "version": "3.9.13"
  }
 },
 "nbformat": 4,
 "nbformat_minor": 5
}
